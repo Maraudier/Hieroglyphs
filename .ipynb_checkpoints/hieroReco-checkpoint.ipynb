{
 "cells": [
  {
   "cell_type": "code",
   "execution_count": 1,
   "metadata": {},
   "outputs": [],
   "source": [
    "import numpy as np\n",
    "import random\n",
    "import os\n",
    "import pandas as pd\n",
    "\n",
    "import matplotlib.pyplot as plt\n",
    "import matplotlib.image as mpimg\n",
    "\n",
    "#from keras import backend as K\n"
   ]
  },
  {
   "cell_type": "code",
   "execution_count": 2,
   "metadata": {},
   "outputs": [],
   "source": [
    "# Dataset path\n",
    "path=\"/Users/fgimbert/Documents/Dataset/Manual/Preprocessed/\"\n"
   ]
  },
  {
   "cell_type": "code",
   "execution_count": 3,
   "metadata": {},
   "outputs": [],
   "source": [
    "# load dataset images in numpy and save if for first time\n",
    "\n",
    "def load_into_np(folderPictures=path):\n",
    "    index = 0\n",
    "    dataset = []\n",
    "    unknown = []\n",
    "    labels = []\n",
    "    folders=next(os.walk(folderPictures))[1]\n",
    "    print(folders)\n",
    "    img_x = 50\n",
    "    img_y = 75\n",
    "\n",
    "    for folder in folders[:1]:\n",
    "        for img_file in os.listdir(folderPictures+folder):\n",
    "            #print(img_file)\n",
    "            name, label = img_file.strip('.png').split(\"_\")\n",
    "            #print(name, label)\n",
    "            if label == 'UNKNOWN':\n",
    "                picture = mpimg.imread(path +folder+'/'+img_file).reshape(img_x * img_y)\n",
    "                unknown.append(picture)\n",
    "                #print('Unknown !!')\n",
    "            else:\n",
    "                picture = mpimg.imread(path +folder+'/'+img_file).reshape(img_x * img_y)\n",
    "            #print(picture.shape)\n",
    "            #picture = path + str(repertory) + \"/\" + str(file) + \"_\" + str(label) + \".png\"\n",
    "                dataset.append(picture)\n",
    "                labels.append(label)\n",
    "    \n",
    "    dataset = np.array(dataset)\n",
    "    #labels = np.array(labels).reshape(-1,1)\n",
    "    #print(labels.shape)\n",
    "    \n",
    "    import pickle\n",
    "\n",
    "    with open('dataset.pkl', 'wb') as fp:\n",
    "        pickle.dump(dataset, fp)\n",
    "        \n",
    "    with open('labels.pkl', 'wb') as fp:\n",
    "        pickle.dump(labels, fp)\n",
    "        \n",
    "\n",
    "    \n",
    "    #np.savetxt('dataset.csv', dataset, delimiter=\",\")\n",
    "    #np.savetxt('labels.csv', labels, delimiter=\",\")\n",
    "\n",
    "    \n",
    "            "
   ]
  },
  {
   "cell_type": "code",
   "execution_count": 4,
   "metadata": {},
   "outputs": [
    {
     "name": "stdout",
     "output_type": "stream",
     "text": [
      "['20', '21', '22', '23', '3', '39', '41', '5', '7', '9']\n"
     ]
    }
   ],
   "source": [
    "load_into_np(path)"
   ]
  },
  {
   "cell_type": "code",
   "execution_count": null,
   "metadata": {},
   "outputs": [],
   "source": [
    "def euclidean_distance(vects):\n",
    "    x, y = vects\n",
    "    sum_square = K.sum(K.square(x - y), axis=1, keepdims=True)\n",
    "    return K.sqrt(K.maximum(sum_square, K.epsilon()))\n",
    "\n",
    "\n",
    "def eucl_dist_output_shape(shapes):\n",
    "    shape1, shape2 = shapes\n",
    "    return (shape1[0], 1)\n",
    "\n",
    "\n",
    "def contrastive_loss(y_true, y_pred):\n",
    "    '''Contrastive loss from Hadsell-et-al.'06\n",
    "    http://yann.lecun.com/exdb/publis/pdf/hadsell-chopra-lecun-06.pdf\n",
    "    '''\n",
    "    margin = 1\n",
    "    square_pred = K.square(y_pred)\n",
    "    margin_square = K.square(K.maximum(margin - y_pred, 0))\n",
    "    return K.mean(y_true * square_pred + (1 - y_true) * margin_square)"
   ]
  }
 ],
 "metadata": {
  "kernelspec": {
   "display_name": "Python 3",
   "language": "python",
   "name": "python3"
  },
  "language_info": {
   "codemirror_mode": {
    "name": "ipython",
    "version": 3
   },
   "file_extension": ".py",
   "mimetype": "text/x-python",
   "name": "python",
   "nbconvert_exporter": "python",
   "pygments_lexer": "ipython3",
   "version": "3.6.7"
  }
 },
 "nbformat": 4,
 "nbformat_minor": 1
}
