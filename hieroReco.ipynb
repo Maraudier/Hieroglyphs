{
 "cells": [
  {
   "cell_type": "code",
   "execution_count": 3,
   "metadata": {},
   "outputs": [],
   "source": [
    "import numpy as np\n",
    "import random\n",
    "import os\n",
    "import pandas as pd\n",
    "\n",
    "import matplotlib.pyplot as plt\n",
    "import matplotlib.image as mpimg\n",
    "\n",
    "#from keras import backend as K\n"
   ]
  },
  {
   "cell_type": "code",
   "execution_count": 2,
   "metadata": {},
   "outputs": [],
   "source": [
    "# Dataset path\n",
    "path=\"/Users/fgimbert/Documents/Dataset/Manual/Preprocessed/\"\n"
   ]
  },
  {
   "cell_type": "code",
   "execution_count": 3,
   "metadata": {},
   "outputs": [],
   "source": [
    "# load dataset images in numpy and save if for first time\n",
    "\n",
    "def load_into_np(folderPictures=path):\n",
    "    index = 0\n",
    "    dataset = []\n",
    "    unknown = []\n",
    "    labels = []\n",
    "    folders=next(os.walk(folderPictures))[1]\n",
    "    print(folders)\n",
    "    img_x = 50\n",
    "    img_y = 75\n",
    "\n",
    "    for folder in folders[:1]:\n",
    "        for img_file in os.listdir(folderPictures+folder):\n",
    "            #print(img_file)\n",
    "            name, label = img_file.strip('.png').split(\"_\")\n",
    "            #print(name, label)\n",
    "            if label == 'UNKNOWN':\n",
    "                picture = mpimg.imread(path +folder+'/'+img_file).reshape(img_x * img_y)\n",
    "                unknown.append(picture)\n",
    "                #print('Unknown !!')\n",
    "            else:\n",
    "                picture = mpimg.imread(path +folder+'/'+img_file).reshape(img_x * img_y)\n",
    "            #print(picture.shape)\n",
    "            #picture = path + str(repertory) + \"/\" + str(file) + \"_\" + str(label) + \".png\"\n",
    "                dataset.append(picture)\n",
    "                labels.append(label)\n",
    "    \n",
    "    dataset = np.array(dataset)\n",
    "    #labels = np.array(labels).reshape(-1,1)\n",
    "    #print(labels.shape)\n",
    "    \n",
    "    import pickle\n",
    "\n",
    "    with open('dataset.pkl', 'wb') as fp:\n",
    "        pickle.dump(dataset, fp)\n",
    "        \n",
    "    with open('labels.pkl', 'wb') as fp:\n",
    "        pickle.dump(labels, fp)\n",
    "        \n",
    "\n",
    "    \n",
    "    #np.savetxt('dataset.csv', dataset, delimiter=\",\")\n",
    "    #np.savetxt('labels.csv', labels, delimiter=\",\")\n",
    "\n",
    "    \n",
    "            "
   ]
  },
  {
   "cell_type": "code",
   "execution_count": 20,
   "metadata": {},
   "outputs": [
    {
     "ename": "NameError",
     "evalue": "name 'load_into_np' is not defined",
     "traceback": [
      "\u001b[0;31m---------------------------------------------------------------------------\u001b[0m",
      "\u001b[0;31mNameError\u001b[0m                                 Traceback (most recent call last)",
      "\u001b[0;32m<ipython-input-20-0cdf9ba150d6>\u001b[0m in \u001b[0;36m<module>\u001b[0;34m()\u001b[0m\n\u001b[0;32m----> 1\u001b[0;31m \u001b[0mload_into_np\u001b[0m\u001b[0;34m(\u001b[0m\u001b[0mpath\u001b[0m\u001b[0;34m)\u001b[0m\u001b[0;34m\u001b[0m\u001b[0;34m\u001b[0m\u001b[0m\n\u001b[0m",
      "\u001b[0;31mNameError\u001b[0m: name 'load_into_np' is not defined"
     ],
     "output_type": "error"
    }
   ],
   "source": [
    "load_into_np(path)"
   ]
  },
  {
   "cell_type": "code",
   "execution_count": 19,
   "metadata": {
    "collapsed": true
   },
   "outputs": [
    {
     "name": "stdout",
     "output_type": "stream",
     "text": [
      "361\n(361, 3750)\n"
     ]
    },
    {
     "name": "stdout",
     "output_type": "stream",
     "text": [
      "(333, 3750)\n333\n"
     ]
    }
   ],
   "source": [
    "print(len(np.load('labels.pkl')))\n",
    "print(np.load('dataset.pkl').shape)\n",
    "\n",
    "#Only keep the hieroglyph classes with 2 examples. \n",
    "\n",
    "count_labels = {}\n",
    "\n",
    "full_labels = np.load('labels.pkl')\n",
    "full_dataset = np.load('dataset.pkl')\n",
    "\n",
    "for label in full_labels:\n",
    "    if label in count_labels:\n",
    "        count_labels[label] += 1\n",
    "    else:\n",
    "        count_labels[label] = 1\n",
    "\n",
    "labels = []\n",
    "dataset = full_dataset[0,:].reshape(1,-1)\n",
    "#print(full_dataset[0,:].reshape(1,-1).shape)\n",
    "#print(dataset.shape)\n",
    "\n",
    "for i, label in enumerate(full_labels):\n",
    "    if count_labels[label] > 1:\n",
    "        labels.append(label)\n",
    "        dataset = np.concatenate((dataset, full_dataset[i,:].reshape(1,-1)), axis=0)\n",
    " \n",
    "dataset = np.delete(dataset, (0), axis=0)  \n",
    "\n",
    "print(dataset.shape)\n",
    "print(len(labels))"
   ]
  },
  {
   "cell_type": "code",
   "execution_count": null,
   "metadata": {},
   "outputs": [],
   "source": [
    "# Create train and test dataset \n",
    "# Hieroglyph in test dataset if only count_labels[hiero] > 2 \n",
    "\n"
   ]
  },
  {
   "cell_type": "code",
   "execution_count": null,
   "metadata": {},
   "outputs": [],
   "source": [
    "def euclidean_distance(vects):\n",
    "    x, y = vects\n",
    "    sum_square = K.sum(K.square(x - y), axis=1, keepdims=True)\n",
    "    return K.sqrt(K.maximum(sum_square, K.epsilon()))\n",
    "\n",
    "\n",
    "def eucl_dist_output_shape(shapes):\n",
    "    shape1, shape2 = shapes\n",
    "    return (shape1[0], 1)\n",
    "\n",
    "\n",
    "def contrastive_loss(y_true, y_pred):\n",
    "    '''Contrastive loss from Hadsell-et-al.'06\n",
    "    http://yann.lecun.com/exdb/publis/pdf/hadsell-chopra-lecun-06.pdf\n",
    "    '''\n",
    "    margin = 1\n",
    "    square_pred = K.square(y_pred)\n",
    "    margin_square = K.square(K.maximum(margin - y_pred, 0))\n",
    "    return K.mean(y_true * square_pred + (1 - y_true) * margin_square)\n",
    "\n",
    "\n",
    "def create_pairs(x, digit_indices):\n",
    "    '''Positive and negative pair creation.\n",
    "    Alternates between positive and negative pairs.\n",
    "    '''\n",
    "    pairs = []\n",
    "    labels = []\n",
    "    n = min([len(digit_indices[d]) for d in range(num_classes)]) - 1\n",
    "    for d in range(num_classes):\n",
    "        for i in range(n):\n",
    "            z1, z2 = digit_indices[d][i], digit_indices[d][i + 1]\n",
    "            pairs += [[x[z1], x[z2]]]\n",
    "            inc = random.randrange(1, num_classes)\n",
    "            dn = (d + inc) % num_classes\n",
    "            z1, z2 = digit_indices[d][i], digit_indices[dn][i]\n",
    "            pairs += [[x[z1], x[z2]]]\n",
    "            labels += [1, 0]\n",
    "    return np.array(pairs), np.array(labels)"
   ]
  },
  {
   "cell_type": "code",
   "execution_count": null,
   "metadata": {},
   "outputs": [],
   "source": []
  }
 ],
 "metadata": {
  "kernelspec": {
   "display_name": "Python 3",
   "language": "python",
   "name": "python3"
  },
  "language_info": {
   "codemirror_mode": {
    "name": "ipython",
    "version": 3
   },
   "file_extension": ".py",
   "mimetype": "text/x-python",
   "name": "python",
   "nbconvert_exporter": "python",
   "pygments_lexer": "ipython3",
   "version": "3.6.7"
  }
 },
 "nbformat": 4,
 "nbformat_minor": 1
}
